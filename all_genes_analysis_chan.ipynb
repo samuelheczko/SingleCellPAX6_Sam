{
 "cells": [
  {
   "cell_type": "markdown",
   "metadata": {},
   "source": [
    "Here we extract the subset of the whole dataset. We run over several hyperparameters: \n",
    "1. the amount of genes to consider for scVelo\n",
    "2. mixing the pseudotime kernel with the Velocity kernel ratio\n",
    "\n",
    "\n",
    "we run the main cell developement line idenfied in chan et al (https://doi.org/10.1101/2023.07.31.551262) using the velocity\n"
   ]
  },
  {
   "cell_type": "code",
   "execution_count": null,
   "metadata": {
    "execution": {
     "iopub.execute_input": "2023-11-15T00:06:17.419711Z",
     "iopub.status.busy": "2023-11-15T00:06:17.418906Z",
     "iopub.status.idle": "2023-11-15T00:06:28.883730Z",
     "shell.execute_reply": "2023-11-15T00:06:28.881783Z",
     "shell.execute_reply.started": "2023-11-15T00:06:17.419624Z"
    }
   },
   "outputs": [],
   "source": [
    "import pandas as pd ## importsb\n",
    "import seaborn as sns\n",
    "import numpy as np\n",
    "import glob\n",
    "import os\n",
    "import random\n",
    "import scipy\n",
    "import matplotlib.pyplot as plt\n",
    "import scvelo as scv\n",
    "import networkx as nx\n",
    "import anndata as ad\n",
    "import cellrank as cr\n",
    "import scanpy as sc\n",
    "\n",
    "from matplotlib.patches import Rectangle\n",
    "\n",
    "\n",
    "import os\n"
   ]
  },
  {
   "cell_type": "code",
   "execution_count": null,
   "metadata": {
    "execution": {
     "iopub.execute_input": "2023-11-15T00:06:28.886990Z",
     "iopub.status.busy": "2023-11-15T00:06:28.886020Z",
     "iopub.status.idle": "2023-11-15T00:06:28.896461Z",
     "shell.execute_reply": "2023-11-15T00:06:28.894866Z",
     "shell.execute_reply.started": "2023-11-15T00:06:28.886940Z"
    }
   },
   "outputs": [],
   "source": [
    "##uncomment for real data (clster)\n",
    "#path_main = \"/home/wchan210\"\n",
    "#path_plot = path_main + '/plots/'\n",
    "\n",
    "##uncomment for toy data set - sam's mac\n",
    "path_main = \"../..\"\n",
    "path_plot = path_main + '/plots/'\n",
    "\n",
    "\n",
    "# Check if path exists or not\n",
    "isExist = os.path.exists(path_plot)\n",
    "#printing if the path exists or not\n",
    "print(isExist)\n",
    "\n",
    "if not isExist:\n",
    "    os.makedirs(path_plot) ##make the path where to save plots\n",
    "    print(path_plot)\n",
    "\n",
    "\n"
   ]
  },
  {
   "cell_type": "markdown",
   "metadata": {},
   "source": [
    "## 1. load in the datasets take the subsets"
   ]
  },
  {
   "cell_type": "code",
   "execution_count": null,
   "metadata": {
    "execution": {
     "iopub.execute_input": "2023-11-15T00:06:32.098098Z",
     "iopub.status.busy": "2023-11-15T00:06:32.097293Z",
     "iopub.status.idle": "2023-11-15T00:26:35.751257Z",
     "shell.execute_reply": "2023-11-15T00:26:35.748828Z",
     "shell.execute_reply.started": "2023-11-15T00:06:32.098013Z"
    }
   },
   "outputs": [],
   "source": [
    "##uncomment for real data (clster)\n",
    "#wt_all =scv.read(path_main + '/CellRank/chan_wt_dynamic.h5ad') ##replace with wt all genes path \n",
    "#mut_all =scv.read(path_main + '/CellRank/chan_mut_dynamical.h5ad') ##replace with mut all genes path \n",
    "\n",
    "##uncomment for toy data set\n",
    "wt_all =scv.read(path_main + '/labelled/all_info/chan_wt_dynamical_trimmed_with_PAX6.h5ad') ##replace with wt all genes path \n",
    "mut_all =scv.read(path_main + '/labelled/all_info/chan_mut_dynamical_trimmed_with_PAX6.h5ad') ##replace with mut all genes path \n",
    "\n",
    "\n",
    "pathway1_cells = ['RGP1','RGP2','RGP3','IN1','IP','EN','DLN','SLN','IN Progenitor'] #set the clusters included in the analysis\n",
    "\n",
    "wt_path1 = wt_all[wt_all.obs.cluster.isin(pathway1_cells)]#.copy()\n",
    "mut_path1 = mut_all[mut_all.obs.cluster.isin(pathway1_cells)]#.copy()\n",
    "\n",
    "\n",
    "\n",
    "\n",
    "subset_names = ['wt','mut']\n",
    "subsets = [wt_path1,mut_path1]\n",
    "datasets = dict(zip(subset_names, subsets))\n",
    "#mut_all = scv.read('../../labelled/all_info/chan_wt.h5ad')\n",
    "\n"
   ]
  },
  {
   "cell_type": "code",
   "execution_count": null,
   "metadata": {
    "execution": {
     "iopub.execute_input": "2023-11-13T11:12:38.129031Z",
     "iopub.status.busy": "2023-11-13T11:12:38.121493Z",
     "iopub.status.idle": "2023-11-13T11:41:29.232146Z",
     "shell.execute_reply": "2023-11-13T11:41:29.229867Z",
     "shell.execute_reply.started": "2023-11-13T11:12:38.128942Z"
    }
   },
   "outputs": [],
   "source": [
    "#mut_all[mut_all.obs.cluster.isin(pathway1_cells)] #subset the cells\n",
    "##have a look at the clusters still included in the dataset\n",
    "\n",
    "with scv.GridSpec(ncols=2) as pl: ##check the subsets\n",
    "    pl.scatter(datasets['mut'], color = 'cluster', color_map ='gnuplot', title='mut path 1')\n",
    "    pl.scatter(datasets['wt'], color = 'cluster', color_map='gnuplot', title='wt path 2')\n",
    "#pathway1_cells = ['RGP1','RGP2','RGP3','IN Progenitor','IN1','IP','EN','DLN','SLN']\n",
    "\n"
   ]
  },
  {
   "cell_type": "code",
   "execution_count": null,
   "metadata": {},
   "outputs": [],
   "source": [
    "##dont run\n",
    "\n",
    "top_genes = datasets['mut'].var['fit_likelihood'].sort_values(ascending=False).index\n",
    "scv.pl.scatter(datasets['mut'], basis=top_genes[:15], color = 'cluster',ncols=5, frameon=False)\n",
    "\n",
    "\n",
    "\n",
    "\n",
    "scv.pl.scatter(datasets['mut'], basis=top_genes[:15], color = 'cluster',ncols=5, frameon=False)\n",
    "\n"
   ]
  },
  {
   "cell_type": "code",
   "execution_count": null,
   "metadata": {},
   "outputs": [],
   "source": [
    "##dont run\n",
    "\n",
    "top_genes = datasets['mut'].var['fit_likelihood'].sort_values(ascending=False).index[:20]\n",
    "scv.pl.heatmap(datasets['mut'], var_names=top_genes, sortby='latent_time', col_color='cluster', n_convolve=100)"
   ]
  },
  {
   "cell_type": "markdown",
   "metadata": {},
   "source": [
    "## 2. calculate the dynamics of the subset\n",
    "\n",
    "Here we find the driver genes using sc velo only and save the figures. (use these figures to analyse kinetics of the highest likelihood genes - can we see various kinetics)\n",
    "\n",
    "In the future it might be useful to subset the DLN track of the mutant - compare the gene expression across the latent time"
   ]
  },
  {
   "cell_type": "markdown",
   "metadata": {},
   "source": [
    "## 3. use cell rank to calculate cell fates and so on\n",
    "\n",
    "since the last round we ran with 2000 top genes -- that is the data we are working here with now\n",
    "\n",
    "We build up the 'kernels' (term used for matrices in the cellrank documentation) from the latent time (velocity latent time/pseudotime) and velocity we calcaulted earlier. \n"
   ]
  },
  {
   "cell_type": "code",
   "execution_count": null,
   "metadata": {
    "execution": {
     "iopub.execute_input": "2023-11-15T10:49:44.266093Z",
     "iopub.status.busy": "2023-11-15T10:49:44.265201Z",
     "iopub.status.idle": "2023-11-15T11:25:39.841422Z",
     "shell.execute_reply": "2023-11-15T11:25:39.838926Z",
     "shell.execute_reply.started": "2023-11-15T10:49:44.266001Z"
    }
   },
   "outputs": [],
   "source": [
    "estimators = {}\n",
    "\n",
    "for mut_wt in datasets:\n",
    "    ##find the connectivity graph (once again - done in scvelo before, combine wiht connectivity kernel)\n",
    "\n",
    "\n",
    "    print(mut_wt)\n",
    "    dataset = datasets[mut_wt]\n",
    "\n",
    "    vk = cr.kernels.VelocityKernel(dataset)\n",
    "    vk.compute_transition_matrix()\n",
    "\n",
    "    ck = cr.kernels.ConnectivityKernel(dataset)\n",
    "    ck.compute_transition_matrix()\n",
    "\n",
    "    combined_kernel = 0.8 * vk + 0.2 * ck\n",
    "\n",
    "    combined_kernel.plot_projection(color = 'cluster')\n",
    "\n",
    "    combined_kernel.plot_random_walks(start_ixs={\"cluster\": \"RGP1\"}, max_iter=100, seed=0,save = path_plot + f'{mut_wt}_random_walks_100_steps_.png', color=\"cluster\")\n",
    "\n",
    "    ##pseudotime\n",
    "\n",
    "    pk = cr.kernels.PseudotimeKernel(dataset, time_key=\"dpt_pseudotime\")\n",
    "    pk.compute_transition_matrix()\n",
    "\n",
    "    pk.plot_projection(recompute=True,save = path_plot + f'{mut_wt}_pseudotime_cellrank_embedding.png', color = 'cluster')\n",
    "\n",
    "    #plots only the peseudotime with streamlines\n",
    "    \n",
    "\n",
    "    ##estimate the end and starting points\n",
    "    estimator =  cr.estimators.GPCCA(combined_kernel) ##use the combined kernel to compute the macrostates \n",
    "\n",
    "    estimator.fit(cluster_key=\"cluster\", n_states= [4,8]) ##fit between four and eight states\n",
    "\n",
    "    estimator.plot_macrostates(which=\"all\", discrete=True, legend_loc=\"right\") ##plot the states found\n",
    "\n",
    "    estimator.predict_terminal_states(allow_overlap=True) ##predict the terminal states\n",
    "    estimator.predict_initial_states(allow_overlap=True)  ##predict the initial states\n",
    "\n",
    "    estimator.plot_macrostates(which=\"initial\", discrete=True,legend_loc=\"right\" ,save = path_plot + f'{mut_wt}_initial_states_auto.png') ##plot initial\n",
    "    estimator.plot_macrostates(which=\"terminal\",discrete=True, legend_loc=\"right\",save = path_plot + f'{mut_wt}_terminal_states_auto.png')\n",
    "\n",
    "\n",
    "    estimator.compute_fate_probabilities()\n",
    "\n",
    "    estimator.plot_fate_probabilities(same_plot=False,dpi = 300,save = path_plot + f'{mut_wt}_cell_fates_combined_kernel.png')\n",
    "\n",
    "\n",
    "    estimatorPK =  cr.estimators.GPCCA(pk) ##use the pesudotime kernel to compute the macrostates\n",
    "\n",
    "    estimatorPK.fit(cluster_key=\"cluster\", n_states= [4,7])\n",
    "    estimatorPK.plot_macrostates(which=\"all\", discrete=True, legend_loc=\"right\")\n",
    "\n",
    "    estimatorPK.plot_macrostates(which=\"all\", discrete=True, legend_loc=\"right\") ##plot the results\n",
    "\n",
    "    estimatorPK.predict_terminal_states(allow_overlap=True)\n",
    "    estimatorPK.predict_initial_states(allow_overlap=True)\n",
    "\n",
    "    estimatorPK.plot_macrostates(which=\"initial\", discrete=True,legend_loc=\"right\" ,save = path_plot + f'{mut_wt}_pseudotime_initial_states_auto.png') ##plot initial\n",
    "    estimatorPK.plot_macrostates(which=\"terminal\",discrete=True, legend_loc=\"right\",save = path_plot + f'{mut_wt}_Pseudotime_terminal_states_auto.png')\n",
    "\n",
    "\n",
    "    estimatorPK.compute_fate_probabilities()\n",
    "\n",
    "    estimatorPK.plot_fate_probabilities(same_plot=False,dpi = 300,save = path_plot + f'{mut_wt}_cell_fates_pseudotime_kernel.png')\n",
    "\n",
    "    dataset.write(path_main + f'/{mut_wt}_all_genes_pseudotime_velocity_latent_times.h5ad', compression=\"gzip\")\n",
    "\n",
    "    estimators[mut_wt] = estimator\n",
    "    estimators[f'{mut_wt}_PK'] = estimatorPK\n",
    "    \n",
    "    \n",
    "\n",
    "\n",
    "\n",
    "\n",
    "\n",
    "\n",
    "\n",
    "\n",
    "\n"
   ]
  },
  {
   "cell_type": "code",
   "execution_count": null,
   "metadata": {},
   "outputs": [],
   "source": []
  },
  {
   "cell_type": "markdown",
   "metadata": {},
   "source": [
    "## 3. build the kernels and transition probability graphs"
   ]
  },
  {
   "cell_type": "markdown",
   "metadata": {},
   "source": [
    "## 4. calculate the driver genes for each cell fate"
   ]
  },
  {
   "cell_type": "code",
   "execution_count": null,
   "metadata": {
    "execution": {
     "iopub.execute_input": "2023-11-15T11:55:29.243189Z",
     "iopub.status.busy": "2023-11-15T11:55:29.242284Z",
     "iopub.status.idle": "2023-11-15T11:56:01.321479Z",
     "shell.execute_reply": "2023-11-15T11:56:01.318793Z",
     "shell.execute_reply.started": "2023-11-15T11:55:29.243103Z"
    }
   },
   "outputs": [],
   "source": [
    "for cond in estimators:\n",
    "    estimator = estimators[cond]\n",
    "\n",
    "    driver_clusters = ['RGP1', 'RGP2', 'RGP3', 'IP']\n",
    "\n",
    "    if cond == ('mut'):\n",
    "\n",
    "        \n",
    "        drivers_df = estimator.compute_lineage_drivers(\n",
    "            lineages=[\"DLN\",\"IN1_2\"], cluster_key = 'cluster', clusters = driver_clusters\n",
    "        )\n",
    "    if cond == 'mut_PK':\n",
    "\n",
    "        drivers_df = estimator.compute_lineage_drivers(\n",
    "            lineages=[\"DLN_1\",\"IN1_2\",'DLN_2','IN1_1'], cluster_key = 'cluster', clusters = driver_clusters\n",
    "        )\n",
    "        \n",
    "    else:\n",
    "        drivers_df = estimator.compute_lineage_drivers(\n",
    "            lineages=[\"DLN\"], cluster_key = 'cluster', clusters = driver_clusters\n",
    "        )\n",
    "\n",
    "    if 'mut' in cond:\n",
    "        adata = datasets['mut']\n",
    "\n",
    "    else:\n",
    "        adata = datasets['wt']\n",
    "    if cond == 'mut_PK':\n",
    "\n",
    "        adata.obs[\"fate_probabilities_DLN\"] = estimator.fate_probabilities[\"DLN_1\"].X.flatten()\n",
    "    else:\n",
    "        adata.obs[\"fate_probabilities_DLN\"] = estimator.fate_probabilities[\"DLN\"].X.flatten()\n",
    "\n",
    "    \n",
    "\n",
    "    sc.pl.embedding(\n",
    "            adata,\n",
    "            basis=\"umap\",\n",
    "            color=[\"fate_probabilities_DLN\"] + list(drivers_df.index[:8]),\n",
    "            color_map=\"viridis\",\n",
    "            s=10,\n",
    "            ncols=3,\n",
    "            vmax=\"p96\",\n",
    "            title = f'{cond}_probability'\n",
    "            #save = path_plot + 'fate_probabilities_DLN.png'\n",
    "        )\n",
    "\n",
    "\n",
    "    \n",
    "\n",
    "    drivers_df.head()\n",
    "\n",
    "    drivers_df.to_csv('/home/wchan210/pk_mut_cellfatecorr.csv')\n",
    "    "
   ]
  },
  {
   "cell_type": "code",
   "execution_count": null,
   "metadata": {
    "execution": {
     "iopub.execute_input": "2023-11-15T13:45:01.783734Z",
     "iopub.status.busy": "2023-11-15T13:45:01.782961Z",
     "iopub.status.idle": "2023-11-15T13:45:02.576540Z",
     "shell.execute_reply": "2023-11-15T13:45:02.574441Z",
     "shell.execute_reply.started": "2023-11-15T13:45:01.783649Z"
    }
   },
   "outputs": [],
   "source": [
    "##save the inferred driver genes\n",
    "drivers_df.to_csv('/home/wchan210/pk_mut_cellfatecorr.csv')"
   ]
  },
  {
   "cell_type": "code",
   "execution_count": null,
   "metadata": {},
   "outputs": [],
   "source": [
    "df_corr = pd.read_csv('/Users/samuelheczko/Downloads/pk_mut_cellfatecorr.csv' ,header=0,index_col = 'Gene')"
   ]
  },
  {
   "cell_type": "code",
   "execution_count": null,
   "metadata": {},
   "outputs": [],
   "source": [
    "df_corr.head()"
   ]
  },
  {
   "cell_type": "code",
   "execution_count": null,
   "metadata": {},
   "outputs": [],
   "source": [
    "#np.corrcoef(df_corr.DLN_1_corr.dropna().values,df_corr.DLN_2_corr.dropna().values)\n",
    "\n",
    "#plt.scatter(df_corr.DLN_1_corr.dropna().values,df_corr.IN1_2_corr.dropna().values)\n",
    "\n",
    "\n",
    "(df_corr.DLN_1_corr.dropna() - df_corr.IN1_2_corr.dropna()).abs().nlargest(10)\n",
    "\n",
    "\n",
    "\n",
    "\n"
   ]
  },
  {
   "cell_type": "code",
   "execution_count": null,
   "metadata": {},
   "outputs": [],
   "source": [
    "ip_genes = mut_all[mut_all.obs.cluster == 'IP'].var.fit_likelihood.sort_values(ascending = False).index\n",
    "\n",
    "#datasets['mut'].var['fit_likelihood'].sort_values(ascending=False).index"
   ]
  },
  {
   "cell_type": "markdown",
   "metadata": {},
   "source": [
    "## 5. looking at the wt small subsets (copy paste from here)\n",
    "\n",
    "In this part we build pipline to subset a region in dataset using cluster ids and select rectangular regions within the UMAP embedding. For our data we have identified a 'bridge' which point for our data is to look at the IP cells which turn around from the path which in the mutant leads to inhibiotory tract."
   ]
  },
  {
   "cell_type": "code",
   "execution_count": null,
   "metadata": {},
   "outputs": [],
   "source": [
    "##we start by subsetting the data\n",
    "ips_mut = mut_all[mut_all.obs.cluster == 'IP'].copy()\n",
    "ips_wt = wt_all[wt_all.obs.cluster == 'IP'].copy()\n",
    "\n",
    "ips_dict = {}\n",
    "ips_dict['wt'] = ips_wt ##set the subsets as dictionary for easier looping\n",
    "ips_dict['mut'] = ips_mut\n",
    "\n",
    "\n",
    "INP_mut = wt_all[wt_all.obs.cluster == 'IN Progenitor'].copy()\n",
    "\n",
    "\n",
    "overlapping_genes_mut_wt = list(set(INP_mut.var_names) & set(terminal_state1.var_names)) #comment out with all genes\n",
    "\n",
    "\n"
   ]
  },
  {
   "cell_type": "code",
   "execution_count": null,
   "metadata": {},
   "outputs": [],
   "source": [
    "##define helper function which finds poiutns inisde a rectangle\n",
    "\n",
    "def points_inside_rectangle(rectangle, points):\n",
    "    \"\"\"\n",
    "    Check which points are inside the given rectangle.\n",
    "\n",
    "    Parameters:\n",
    "    - rectangle: Tuple of (x, y, width, height)\n",
    "    - points: NumPy array of points, each represented as (x, y)\n",
    "\n",
    "    Returns:\n",
    "    - NumPy array of points that are inside the rectangle\n",
    "    \"\"\"\n",
    "    x, y, width, height = rectangle\n",
    "\n",
    "    # Create a bounding box for the rectangle\n",
    "    rect_x, rect_y = x, y\n",
    "    rect_width, rect_height = width, height\n",
    "    rect_corners = np.array([[rect_x, rect_y], [rect_x + rect_width, rect_y + rect_height]])\n",
    "\n",
    "    # Check which points are inside the bounding box using vectorized operations\n",
    "    inside_bbox = np.all(points >= rect_corners[0], axis=1) & np.all(points <= rect_corners[1], axis=1)\n",
    "\n",
    "    # Return the points that are inside the bounding box\n",
    "    points_inside = points[inside_bbox]\n",
    "\n",
    "    return points_inside,inside_bbox\n",
    "\n",
    "def get_rectangle_coords(coords): #x,y,x,y,width,height\n",
    "    return (coords[0],coords[1],coords[0] + coords[2],coords[1] + coords[3])\n"
   ]
  },
  {
   "cell_type": "markdown",
   "metadata": {},
   "source": [
    "## 1a set the boundaries of the subsets studied\n",
    "\n",
    "Here we set up the boundaries of the rectangles in which we will look at the gene expression and velocity\n"
   ]
  },
  {
   "cell_type": "code",
   "execution_count": null,
   "metadata": {},
   "outputs": [],
   "source": [
    "##set the square you want to subset\n",
    "\n",
    "rectangles = {}\n",
    "rectangle_coords = {}\n",
    "\n",
    "rectangles['1'] = (-2,3.2,4,0.4) #x,y,width,height - Set here the rectangle limits ##the bridge coordinates\n",
    "rectangles['2'] = (-6,2.8,3.5,1) ##x,y,width,height - Set here the rectangle 2 limits  ##the DLN pointing pathway \n",
    "rectangles['3'] = (2,1.9,1.8,2) ##the IN pointing pathway \n",
    "rectangles['4'] = (-1,4,2,2) ##the IN pointing pathway \n",
    "\n",
    "\n",
    "\n",
    "rectangle_colors = {'1': 'y', '2': '#9467bd','3' : '#17becf','4' : '#7f7f7f'} ##set the colours\n",
    "\n",
    "#plot_colors = ['#1f77b4', '#ff7f0e', '#2ca02c', '#d62728', '#9467bd', '#8c564b', '#e377c2', '#7f7f7f', '#bcbd22', '#17becf'] example colours(chat gpt )\n",
    "\n",
    "\n",
    "##add more rectangles and colours if needed\n",
    "\n",
    "for rectangle in rectangles:\n",
    "    rectangle_coords[rectangle] = get_rectangle_coords(rectangles[rectangle]) ##manipualte then to get the coords\n",
    "#rectangle_coords_np = np.array([[rectangle_coords[0],rectangle_coords[1]],[rectangle_coords[2],rectangle_coords[3]]])\n",
    "\n",
    "##plot the subset and find the cells in the 'bridge' \n",
    "fig, ax = plt.subplots(nrows = 2,sharex=True)\n",
    "fig.set_figheight(10)\n",
    "fig.set_figwidth(12)\n",
    "\n",
    "#rectangle_coords = (rectangle_values[0],rectangle_values[1],rectangle_values[0] + rectangle_values[2],rectangle_values[1] + rectangle_values[3])\n",
    "#rectangle_coords_np = np.array([[rectangle_coords[0],rectangle_coords[1]],[rectangle_coords[2],rectangle_coords[3]]])\n",
    "\n",
    "masks_all = {} #intialise dictionary for the index mask containgn the points within the rectangle\n",
    "\n",
    "for genotype_i, genotype in enumerate(ips_dict):\n",
    "    masks = {} ##intialise dictionarys to take the different subsets\n",
    "    inside = {}\n",
    "    for rectangle in rectangles:\n",
    "    \n",
    "\n",
    "        inside[rectangle],bbx = points_inside_rectangle(rectangles[rectangle],ips_dict[genotype].obsm['X_umap'])\n",
    "        masks[rectangle] = bbx\n",
    "\n",
    "\n",
    "\n",
    "        ax[genotype_i].set_title(genotype)\n",
    "\n",
    "        ax[genotype_i].set_ylim((1,6))\n",
    "        ax[genotype_i].set_xlim((-6,7))\n",
    "\n",
    "\n",
    "    \n",
    "\n",
    "        rect = Rectangle((0,1),1,1,fill = False,ls = '--', lw = 2,label = f'subset {rectangle} boundaries',color = rectangle_colors[rectangle]) ##draw the rectangle on the plot\n",
    "        rect.set_bounds(rectangles[rectangle])\n",
    "        ax[genotype_i].add_patch(rect)\n",
    "    \n",
    "        \n",
    "\n",
    "        #ax[genotype_i].scatter(inside[:,0],inside[:,1],s = 5.5,color = 'r',label = 'bridge cells')\n",
    "\n",
    "        \n",
    "\n",
    "        ax[genotype_i].quiver(ips_dict[genotype].obsm['X_umap'][bbx,0],ips_dict[genotype].obsm['X_umap'][bbx,1],ips_dict[genotype].obsm['velocity_umap'][bbx,0],ips_dict[genotype].obsm['velocity_umap'][bbx,1],label = f'velocity vectors {rectangle}',color = rectangle_colors[rectangle], edgecolor = 'k', linewidth = 0.5,scale = 1.5,width = 0.0025)\n",
    "    \n",
    "\n",
    "\n",
    "    arrays_list = list(masks.values())\n",
    "    result_array = np.any(arrays_list, axis=0) ##take the points which are not in any of the rectangles\n",
    "    sum_ = result_array\n",
    "    masks['and'] = result_array\n",
    "    ax[genotype_i].quiver(ips_dict[genotype].obsm['X_umap'][~sum_,0],ips_dict[genotype].obsm['X_umap'][~sum_,1],ips_dict[genotype].obsm['velocity_umap'][~sum_,0],ips_dict[genotype].obsm['velocity_umap'][~sum_,1],label = 'velocity vecotors', color = '#8c564b',edgecolor = 'k', linewidth = 0.6,scale = 1.7)\n",
    "    \n",
    "    handles, labels = ax[genotype_i].get_legend_handles_labels()\n",
    "\n",
    "    # Change the order of handles and labels\n",
    "    new_order =   list(np.roll(np.arange(len(labels)), shift=1)) # Change the order as needed\n",
    "    handles = [handles[i] for i in new_order]\n",
    "    labels = [labels[i] for i in new_order]\n",
    "    print(labels)\n",
    "\n",
    "    ax[genotype_i].legend(handles,labels)\n",
    "\n",
    "    masks_all[genotype] = masks"
   ]
  },
  {
   "cell_type": "code",
   "execution_count": null,
   "metadata": {},
   "outputs": [],
   "source": [
    "\n",
    "## add the subset labels to the dataset\n",
    "\n",
    "ips_dict['wt'].obs['subset'] = None\n",
    "ips_dict['wt'].obs['subset'][masks_all['wt']['1']] = 'bridge'\n",
    "ips_dict['wt'].obs['subset'][masks_all['wt']['2']] = 'DLN'\n",
    "ips_dict['wt'].obs['subset'][masks_all['wt']['3']] = 'terminal'\n",
    "ips_dict['wt'].obs['subset'][masks_all['wt']['4']] = 'start'\n",
    "\n",
    "\n",
    "ips_dict['wt'].obs['subset']\n",
    "\n",
    "#sc.pl.embedding(ips_dict['wt'][ips_dict['wt'].obs.bridge == True],basis='umap')\n"
   ]
  },
  {
   "cell_type": "code",
   "execution_count": null,
   "metadata": {},
   "outputs": [],
   "source": [
    "#calcuate the t tests - save plots\n",
    "sc._settings.ScanpyConfig(figdir=path_plot)\n",
    "sc.set_figure_params(dpi=80,dpi_save=200)\n",
    "\n",
    "sc.tl.rank_genes_groups(ips_dict['wt'], 'subset', method='t-test',reference = 'terminal')\n",
    "sc.pl.rank_genes_groups(ips_dict['wt'], n_genes=25, sharey=False)\n",
    "#\n",
    "df_tvalues_start_v_term = sc.get.rank_genes_groups_df(ips_dict['wt'],'start')\n",
    "df_tvalues_DLN_v_term = sc.get.rank_genes_groups_df(ips_dict['wt'],'DLN')\n",
    "df_tvalues_bridge_v_term = sc.get.rank_genes_groups_df(ips_dict['wt'],'bridge')\n",
    "\n",
    "df_tvalues_bridge_v_term.to_csv(path_main + '/data/brdige_v_term.csv')\n",
    "df_tvalues_DLN_v_term.to_csv(path_main + '/data/DLN_v_term.csv')\n",
    "df_tvalues_start_v_term.to_csv(path_main + '/data/start_v_term.csv')\n",
    "\n",
    "\n",
    "\n",
    "\n",
    "\n",
    "\n",
    "\n",
    "#DLN\n",
    "\n",
    "\n"
   ]
  },
  {
   "cell_type": "code",
   "execution_count": null,
   "metadata": {},
   "outputs": [],
   "source": [
    "list(set(df_tvalues_DLN_v_term.nsmallest(200,'scores').names.values) & set(df_tvalues_start_v_term.nlargest(200,'scores').names.values))\n",
    "\n",
    "\n",
    "list(set(df_tvalues_DLN_v_term.nlargest(150,'scores').names.values) & set(df_tvalues_start_v_term.nsmallest(150,'scores').names.values))\n",
    "\n"
   ]
  },
  {
   "cell_type": "code",
   "execution_count": null,
   "metadata": {},
   "outputs": [],
   "source": [
    "ips_dict['genotype'].obsm"
   ]
  },
  {
   "cell_type": "code",
   "execution_count": null,
   "metadata": {},
   "outputs": [],
   "source": [
    "ips_dict['wt'].uns['rank_genes_groups']"
   ]
  },
  {
   "cell_type": "code",
   "execution_count": null,
   "metadata": {},
   "outputs": [],
   "source": [
    "##find the gene lists - total six of them - the highest velocity and expression in the rectangle, highly outside the rectangle, high differenece and same for velocity\n",
    "sc.set_figure_params(dpi=80,dpi_save=200)\n",
    "how_many = 21 ##how many genes to examine\n",
    "\n",
    "gene_vel_dict = {} ##intialise dictiornary for velocities\n",
    "\n",
    "gene_vel_dict['bridge'] = ips_wt.layers['velocity'][masks['wt'],:].mean(axis = 0) ##find the mean velocity over the cells of each gene - bridge\n",
    "gene_vel_dict['exlcld_bridge'] = ips_wt.layers['velocity'][~masks['wt'],:].mean(axis = 0) ##find the mean velocity of each gene - excluding\n",
    "gene_vel_dict['dif'] = gene_vel_dict['bridge'] - gene_vel_dict['exlcld_bridge'] ##find the mean velocity of each gene - difference\n",
    "\n",
    "gene_exp_dict = {} ##intialise dictiornary for expressions\n",
    "\n",
    "gene_exp_dict['bridge'] = np.squeeze(np.asarray(ips_wt.X[masks['wt'],:].mean(axis = 0))) ##find the mean expressions of each gene - bridge\n",
    "gene_exp_dict['exlcld_bridge'] = np.squeeze(np.asarray(ips_wt.X[~masks['wt'],:].mean(axis = 0))) ##find the mean expressions of each gene - excluding bridge\n",
    "gene_exp_dict['dif'] = gene_exp_dict['bridge'] - gene_exp_dict['exlcld_bridge'] ##find the mean velocity of each gene - difference\n",
    "\n",
    "genes_top_vel = {}\n",
    "\n",
    "genes_top_exp = {}\n",
    "\n",
    "\n",
    "for cond in gene_vel_dict:\n",
    "    plt.figure(dpi=300)\n",
    "    print(cond + ' VELOCITY')\n",
    "\n",
    "    ind = np.argpartition(abs(gene_vel_dict[cond]), -how_many)[-how_many:]\n",
    "    print(gene_vel_dict[cond][ind])\n",
    "    genes_top_vel[cond]  = ips_wt.var.index[ind] ##find the names of the top genes founf from the array\n",
    "\n",
    "    print(genes_top_vel[cond]) ##print the names\n",
    "\n",
    "    sc.pl.embedding(\n",
    "        wt_all,\n",
    "        basis=\"umap\",\n",
    "        color=genes_top_vel[cond],\n",
    "        color_map=\"viridis\",\n",
    "        s=10,\n",
    "        ncols=3,\n",
    "        vmax=\"p96\",\n",
    "        title = zip(genes_top_vel[cond], gene_vel_dict[cond][ind]),\n",
    "        save = f'top_genes_{cond}_velocity.pdf'\n",
    "    )\n",
    "\n",
    "\n",
    "    plt.show()\n",
    "\n",
    "\n",
    "\n",
    "    print(cond + ' EXPRESSION')\n",
    "    ind = np.argpartition(abs(gene_exp_dict[cond]), -how_many)[-how_many:] ##find the indecies of the average top genes\n",
    "    print(gene_exp_dict[cond][ind])\n",
    "    genes_top_exp[cond]  = ips_wt.var.index[ind] ##look up the names of the genes\n",
    "    print(genes_top_exp[cond])\n",
    "\n",
    "\n",
    "\n",
    "\n",
    "    sc.pl.embedding(\n",
    "        wt_all,\n",
    "        basis=\"umap\",\n",
    "        color=genes_top_exp[cond],\n",
    "        color_map=\"viridis\",\n",
    "        s=10,\n",
    "        ncols=3,\n",
    "        vmax=\"p96\",\n",
    "        title = zip(genes_top_exp[cond], gene_exp_dict[cond][ind]),\n",
    "        save = f'top_genes_{cond}_expression.pdf'\n",
    "    )\n",
    "\n",
    "\n",
    "    plt.show()\n",
    "\n",
    "    #plt.hist(abs(gene_vel_dict[cond]),bins = 20)"
   ]
  },
  {
   "cell_type": "code",
   "execution_count": 1000,
   "metadata": {},
   "outputs": [
    {
     "data": {
      "text/plain": [
       "['CENPF']"
      ]
     },
     "execution_count": 1000,
     "metadata": {},
     "output_type": "execute_result"
    }
   ],
   "source": [
    "##overlap of \n",
    "list(set(genes_top_exp['dif']) & set(genes_top_vel['bridge']))\n"
   ]
  },
  {
   "cell_type": "code",
   "execution_count": null,
   "metadata": {},
   "outputs": [],
   "source": [
    "##find genes which are in both top 21 different expression as well as velocity\n",
    "\n",
    "overlap = list(set(genes_top_exp['dif']) & set(genes_top_vel['dif']))\n",
    "#print (bool(set(genes_top_exp['dif']) & set(genes_top_vel['dif'])))\n",
    "print (f'the overlaping genes {overlap}')\n",
    "overlap.remove('UBE2C')\n",
    "\n",
    "##plot the overlapping genes expression in mutant UMAP\n",
    "\n",
    "sc.pl.embedding(\n",
    "wt_all,\n",
    "basis=\"umap\",\n",
    "color=overlap,\n",
    "color_map=\"viridis\",\n",
    "s=10,\n",
    "ncols=3,\n",
    "vmax=\"p96\",\n",
    "#title = zip(genes_top_vel[cond], gene_vel_dict[cond][ind]),\n",
    "save = f'_overlap_genes_wt.pdf'\n",
    ")\n",
    "\n",
    "\n"
   ]
  },
  {
   "cell_type": "code",
   "execution_count": null,
   "metadata": {},
   "outputs": [],
   "source": [
    "##plot the velocity fittings of the found overlap in mut and wt - see whetere the velocity is low or high within the subset of 'bridge'\n",
    "\n",
    "scv.pl.scatter(ips_dict['mut'], basis='CENPF', ncols=5, frameon=False,color = masks['mut'],dpi = 300,title='CENPF_IPs_mutant',colorbar=False)\n",
    "scv.pl.scatter(ips_dict['wt'], basis='EOMES', ncols=5, frameon=False,color = masks['wt'],dpi = 300,title='EOMES_IPs_wt',colorbar=False)"
   ]
  },
  {
   "cell_type": "code",
   "execution_count": null,
   "metadata": {},
   "outputs": [],
   "source": [
    "genes = ['NFIB','ASPM','NNAT','SYNE2','CNTNAP2','CENPF','EOMES','NEUROD6']#EOMES\n",
    "\n",
    "sc.pl.embedding(\n",
    "        wt_all,\n",
    "        basis=\"umap\",\n",
    "        color=genes,\n",
    "        color_map=\"viridis\",\n",
    "        s=10,\n",
    "        ncols=3,\n",
    "        vmax=\"p96\",\n",
    "        #title = zip(genes_top_exp[cond], gene_exp_dict[cond][ind]),\n",
    "        #save = f'top_genes_{cond}_expression_nervous_system_development.pdf'\n",
    "    )\n",
    "\n",
    "sc.pl.embedding(\n",
    "        mut_all,\n",
    "        basis=\"umap\",\n",
    "        color=['NFIB','ASPM','NNAT','SYNE2','CNTNAP2','CENPF'],\n",
    "        color_map=\"viridis\",\n",
    "        s=10,\n",
    "        ncols=3,\n",
    "        vmax=\"p96\",\n",
    "        #title = zip(genes_top_exp[cond], gene_exp_dict[cond][ind]),\n",
    "        #save = f'top_genes_{cond}_expression_nervous_system_development.pdf'\n",
    "    )"
   ]
  },
  {
   "cell_type": "markdown",
   "metadata": {},
   "source": [
    "# mutatnt vs wt subset - last analysis \n",
    "here we look at how the gene expression"
   ]
  },
  {
   "cell_type": "code",
   "execution_count": 1042,
   "metadata": {},
   "outputs": [],
   "source": [
    "terminal_state1 = ips_dict['wt'][ips_dict['wt'].obs['subset'] == 'terminal']\n",
    "bridge = ips_dict['wt'][masks_all['wt']['1']]\n",
    "end = ips_dict['wt'][masks_all['wt']['2']]\n",
    "\n",
    "INP_mut = mut_all[mut_all.obs['cluster'] == 'IN Progenitor']\n",
    "\n",
    "#ips_dict['wt'].obs['subset'][masks_all['wt']['1']] = 'bridge'\n",
    "#ips_dict['wt'].obs['subset'][masks_all['wt']['2']] = 'DLN'\n",
    "#ips_dict['wt'].obs['subset'][masks_all['wt']['3']] = 'terminal'\n",
    "#ips_dict['wt'].obs['subset'][masks_all['wt']['4']] = 'start'\n"
   ]
  },
  {
   "cell_type": "code",
   "execution_count": 1048,
   "metadata": {},
   "outputs": [
    {
     "data": {
      "text/plain": [
       "array([[1.        , 0.96821257],\n",
       "       [0.96821257, 1.        ]])"
      ]
     },
     "execution_count": 1048,
     "metadata": {},
     "output_type": "execute_result"
    }
   ],
   "source": [
    "overlapping_genes = list(set(INP_mut.var_names) & set(end.var_names))\n",
    "\n",
    "\n",
    "np.corrcoef(terminal_state1[:, overlapping_genes].X.mean(axis = 0),INP_mut[:, overlapping_genes].X.mean(axis = 0))\n",
    "\n",
    "\n",
    "\n",
    "\n"
   ]
  },
  {
   "cell_type": "code",
   "execution_count": null,
   "metadata": {},
   "outputs": [],
   "source": [
    "mut_all.obs.cluster"
   ]
  },
  {
   "cell_type": "code",
   "execution_count": 1058,
   "metadata": {},
   "outputs": [
    {
     "name": "stdout",
     "output_type": "stream",
     "text": [
      "[[1.         0.96821257]\n",
      " [0.96821257 1.        ]]\n"
     ]
    },
    {
     "data": {
      "text/plain": [
       "['STXBP6', 'NFIC', 'FYN', 'ELAVL4', 'IGFBPL1', 'ELAVL2']"
      ]
     },
     "execution_count": 1058,
     "metadata": {},
     "output_type": "execute_result"
    },
    {
     "data": {
      "image/png": "[encoded data removed]",
      "text/plain": [
       "<Figure size 320x320 with 1 Axes>"
      ]
     },
     "metadata": {
      "image/png": {
       "height": 318,
       "width": 321
      }
     },
     "output_type": "display_data"
    }
   ],
   "source": [
    "x =  np.squeeze(np.asarray(terminal_state1[:, overlapping_genes].X.mean(axis = 0)))\n",
    "#y = np.squeeze(np.asarray(end[:, overlapping_genes].X.mean(axis = 0)))\n",
    "\n",
    "y = np.squeeze(np.asarray(INP_mut[:, overlapping_genes].X.mean(axis = 0)))\n",
    "plt.scatter(x,y)\n",
    "\n",
    "print(np.corrcoef(x,y))\n",
    "\n",
    "\n",
    "coef = np.polyfit(x,y,1)\n",
    "poly1d_fn = np.poly1d(coef) \n",
    "\n",
    "\n",
    "points = np.column_stack((x, y))\n",
    "points,inside_bbox = points_inside_rectangle((1,0,1,0.5), points)\n",
    "\n",
    "\n",
    "plt.plot(x,y, 'yo', x, poly1d_fn(x), '--k') #'--k'=black dashed line, 'yo' = yellow circle marker\n",
    "\n",
    "plt.xlabel('wt IP subset')\n",
    "plt.ylabel('mut IPNs')\n",
    "plt.title('average gene expression over all the cells')\n",
    "plt.savefig(path_main + '/gene_expression_mut_wt.png')\n",
    "\n",
    "\n",
    "\n",
    "\n",
    "#le\n",
    "\n",
    "\n",
    "list(terminal_state1[:,overlapping_genes][:,inside_bbox].var_names)\n",
    "\n"
   ]
  },
  {
   "cell_type": "code",
   "execution_count": 1005,
   "metadata": {},
   "outputs": [
    {
     "ename": "KeyError",
     "evalue": "'Could not find key SOX4 in .var_names or .obs.columns.'",
     "output_type": "error",
     "traceback": [
      "\u001b[0;31m---------------------------------------------------------------------------\u001b[0m",
      "\u001b[0;31mKeyError\u001b[0m                                  Traceback (most recent call last)",
      "\u001b[1;32m/Users/samuelheczko/Documents/School/phd/mini-projects/chans_data/Code/SingleCellPAX6_Sam/all_genes_analysis_chan.ipynb Cell 40\u001b[0m line \u001b[0;36m1\n\u001b[0;32m----> <a href='vscode-notebook-cell:/Users/samuelheczko/Documents/School/phd/mini-projects/chans_data/Code/SingleCellPAX6_Sam/all_genes_analysis_chan.ipynb#Y142sZmlsZQ%3D%3D?line=0'>1</a>\u001b[0m sc\u001b[39m.\u001b[39mpl\u001b[39m.\u001b[39membedding(\n\u001b[1;32m      <a href='vscode-notebook-cell:/Users/samuelheczko/Documents/School/phd/mini-projects/chans_data/Code/SingleCellPAX6_Sam/all_genes_analysis_chan.ipynb#Y142sZmlsZQ%3D%3D?line=1'>2</a>\u001b[0m        wt_all,\n\u001b[1;32m      <a href='vscode-notebook-cell:/Users/samuelheczko/Documents/School/phd/mini-projects/chans_data/Code/SingleCellPAX6_Sam/all_genes_analysis_chan.ipynb#Y142sZmlsZQ%3D%3D?line=2'>3</a>\u001b[0m        basis\u001b[39m=\u001b[39m\u001b[39m\"\u001b[39m\u001b[39mumap\u001b[39m\u001b[39m\"\u001b[39m,\n\u001b[1;32m      <a href='vscode-notebook-cell:/Users/samuelheczko/Documents/School/phd/mini-projects/chans_data/Code/SingleCellPAX6_Sam/all_genes_analysis_chan.ipynb#Y142sZmlsZQ%3D%3D?line=3'>4</a>\u001b[0m        color\u001b[39m=\u001b[39m\u001b[39m'\u001b[39m\u001b[39mSOX4\u001b[39m\u001b[39m'\u001b[39m,\n\u001b[1;32m      <a href='vscode-notebook-cell:/Users/samuelheczko/Documents/School/phd/mini-projects/chans_data/Code/SingleCellPAX6_Sam/all_genes_analysis_chan.ipynb#Y142sZmlsZQ%3D%3D?line=4'>5</a>\u001b[0m        color_map\u001b[39m=\u001b[39m\u001b[39m\"\u001b[39m\u001b[39mviridis\u001b[39m\u001b[39m\"\u001b[39m,\n\u001b[1;32m      <a href='vscode-notebook-cell:/Users/samuelheczko/Documents/School/phd/mini-projects/chans_data/Code/SingleCellPAX6_Sam/all_genes_analysis_chan.ipynb#Y142sZmlsZQ%3D%3D?line=5'>6</a>\u001b[0m        s\u001b[39m=\u001b[39m\u001b[39m10\u001b[39m,\n\u001b[1;32m      <a href='vscode-notebook-cell:/Users/samuelheczko/Documents/School/phd/mini-projects/chans_data/Code/SingleCellPAX6_Sam/all_genes_analysis_chan.ipynb#Y142sZmlsZQ%3D%3D?line=6'>7</a>\u001b[0m        ncols\u001b[39m=\u001b[39m\u001b[39m3\u001b[39m,\n\u001b[1;32m      <a href='vscode-notebook-cell:/Users/samuelheczko/Documents/School/phd/mini-projects/chans_data/Code/SingleCellPAX6_Sam/all_genes_analysis_chan.ipynb#Y142sZmlsZQ%3D%3D?line=7'>8</a>\u001b[0m        vmax\u001b[39m=\u001b[39m\u001b[39m\"\u001b[39m\u001b[39mp96\u001b[39m\u001b[39m\"\u001b[39m,\n\u001b[1;32m      <a href='vscode-notebook-cell:/Users/samuelheczko/Documents/School/phd/mini-projects/chans_data/Code/SingleCellPAX6_Sam/all_genes_analysis_chan.ipynb#Y142sZmlsZQ%3D%3D?line=8'>9</a>\u001b[0m        title \u001b[39m=\u001b[39m \u001b[39mzip\u001b[39m(genes_top_vel[cond], gene_vel_dict[cond][ind]),\n\u001b[1;32m     <a href='vscode-notebook-cell:/Users/samuelheczko/Documents/School/phd/mini-projects/chans_data/Code/SingleCellPAX6_Sam/all_genes_analysis_chan.ipynb#Y142sZmlsZQ%3D%3D?line=9'>10</a>\u001b[0m        save \u001b[39m=\u001b[39m \u001b[39mf\u001b[39m\u001b[39m'\u001b[39m\u001b[39mtop_genes_\u001b[39m\u001b[39m{\u001b[39;00mcond\u001b[39m}\u001b[39;00m\u001b[39m_velocity.pdf\u001b[39m\u001b[39m'\u001b[39m\n\u001b[1;32m     <a href='vscode-notebook-cell:/Users/samuelheczko/Documents/School/phd/mini-projects/chans_data/Code/SingleCellPAX6_Sam/all_genes_analysis_chan.ipynb#Y142sZmlsZQ%3D%3D?line=10'>11</a>\u001b[0m    )\n",
      "File \u001b[0;32m~/anaconda3/envs/scvelo/lib/python3.11/site-packages/scanpy/plotting/_tools/scatterplots.py:256\u001b[0m, in \u001b[0;36membedding\u001b[0;34m(adata, basis, color, gene_symbols, use_raw, sort_order, edges, edges_width, edges_color, neighbors_key, arrows, arrows_kwds, groups, components, dimensions, layer, projection, scale_factor, color_map, cmap, palette, na_color, na_in_legend, size, frameon, legend_fontsize, legend_fontweight, legend_loc, legend_fontoutline, colorbar_loc, vmax, vmin, vcenter, norm, add_outline, outline_width, outline_color, ncols, hspace, wspace, title, show, save, ax, return_fig, **kwargs)\u001b[0m\n\u001b[1;32m    249\u001b[0m \u001b[39m# use itertools.product to make a plot for each color and for each component\u001b[39;00m\n\u001b[1;32m    250\u001b[0m \u001b[39m# For example if color=[gene1, gene2] and components=['1,2, '2,3'].\u001b[39;00m\n\u001b[1;32m    251\u001b[0m \u001b[39m# The plots are: [\u001b[39;00m\n\u001b[1;32m    252\u001b[0m \u001b[39m#     color=gene1, components=[1,2], color=gene1, components=[2,3],\u001b[39;00m\n\u001b[1;32m    253\u001b[0m \u001b[39m#     color=gene2, components = [1, 2], color=gene2, components=[2,3],\u001b[39;00m\n\u001b[1;32m    254\u001b[0m \u001b[39m# ]\u001b[39;00m\n\u001b[1;32m    255\u001b[0m \u001b[39mfor\u001b[39;00m count, (value_to_plot, dims) \u001b[39min\u001b[39;00m \u001b[39menumerate\u001b[39m(\u001b[39mzip\u001b[39m(color, dimensions)):\n\u001b[0;32m--> 256\u001b[0m     color_source_vector \u001b[39m=\u001b[39m _get_color_source_vector(\n\u001b[1;32m    257\u001b[0m         adata,\n\u001b[1;32m    258\u001b[0m         value_to_plot,\n\u001b[1;32m    259\u001b[0m         layer\u001b[39m=\u001b[39mlayer,\n\u001b[1;32m    260\u001b[0m         use_raw\u001b[39m=\u001b[39muse_raw,\n\u001b[1;32m    261\u001b[0m         gene_symbols\u001b[39m=\u001b[39mgene_symbols,\n\u001b[1;32m    262\u001b[0m         groups\u001b[39m=\u001b[39mgroups,\n\u001b[1;32m    263\u001b[0m     )\n\u001b[1;32m    264\u001b[0m     color_vector, categorical \u001b[39m=\u001b[39m _color_vector(\n\u001b[1;32m    265\u001b[0m         adata,\n\u001b[1;32m    266\u001b[0m         value_to_plot,\n\u001b[0;32m   (...)\u001b[0m\n\u001b[1;32m    269\u001b[0m         na_color\u001b[39m=\u001b[39mna_color,\n\u001b[1;32m    270\u001b[0m     )\n\u001b[1;32m    272\u001b[0m     \u001b[39m# Order points\u001b[39;00m\n",
      "File \u001b[0;32m~/anaconda3/envs/scvelo/lib/python3.11/site-packages/scanpy/plotting/_tools/scatterplots.py:1168\u001b[0m, in \u001b[0;36m_get_color_source_vector\u001b[0;34m(adata, value_to_plot, use_raw, gene_symbols, layer, groups)\u001b[0m\n\u001b[1;32m   1166\u001b[0m     values \u001b[39m=\u001b[39m adata\u001b[39m.\u001b[39mraw\u001b[39m.\u001b[39mobs_vector(value_to_plot)\n\u001b[1;32m   1167\u001b[0m \u001b[39melse\u001b[39;00m:\n\u001b[0;32m-> 1168\u001b[0m     values \u001b[39m=\u001b[39m adata\u001b[39m.\u001b[39mobs_vector(value_to_plot, layer\u001b[39m=\u001b[39mlayer)\n\u001b[1;32m   1169\u001b[0m \u001b[39mif\u001b[39;00m groups \u001b[39mand\u001b[39;00m is_categorical_dtype(values):\n\u001b[1;32m   1170\u001b[0m     values \u001b[39m=\u001b[39m values\u001b[39m.\u001b[39mremove_categories(values\u001b[39m.\u001b[39mcategories\u001b[39m.\u001b[39mdifference(groups))\n",
      "File \u001b[0;32m~/anaconda3/envs/scvelo/lib/python3.11/site-packages/anndata/_core/anndata.py:1444\u001b[0m, in \u001b[0;36mAnnData.obs_vector\u001b[0;34m(self, k, layer)\u001b[0m\n\u001b[1;32m   1438\u001b[0m         warnings\u001b[39m.\u001b[39mwarn(\n\u001b[1;32m   1439\u001b[0m             \u001b[39m\"\u001b[39m\u001b[39mIn a future version of AnnData, access to `.X` by passing\u001b[39m\u001b[39m\"\u001b[39m\n\u001b[1;32m   1440\u001b[0m             \u001b[39m\"\u001b[39m\u001b[39m `layer=\u001b[39m\u001b[39m'\u001b[39m\u001b[39mX\u001b[39m\u001b[39m'\u001b[39m\u001b[39m` will be removed. Instead pass `layer=None`.\u001b[39m\u001b[39m\"\u001b[39m,\n\u001b[1;32m   1441\u001b[0m             \u001b[39mFutureWarning\u001b[39;00m,\n\u001b[1;32m   1442\u001b[0m         )\n\u001b[1;32m   1443\u001b[0m         layer \u001b[39m=\u001b[39m \u001b[39mNone\u001b[39;00m\n\u001b[0;32m-> 1444\u001b[0m \u001b[39mreturn\u001b[39;00m get_vector(\u001b[39mself\u001b[39m, k, \u001b[39m\"\u001b[39m\u001b[39mobs\u001b[39m\u001b[39m\"\u001b[39m, \u001b[39m\"\u001b[39m\u001b[39mvar\u001b[39m\u001b[39m\"\u001b[39m, layer\u001b[39m=\u001b[39mlayer)\n",
      "File \u001b[0;32m~/anaconda3/envs/scvelo/lib/python3.11/site-packages/anndata/_core/index.py:217\u001b[0m, in \u001b[0;36mget_vector\u001b[0;34m(adata, k, coldim, idxdim, layer)\u001b[0m\n\u001b[1;32m    213\u001b[0m     \u001b[39mraise\u001b[39;00m \u001b[39mValueError\u001b[39;00m(\n\u001b[1;32m    214\u001b[0m         \u001b[39mf\u001b[39m\u001b[39m\"\u001b[39m\u001b[39mKey \u001b[39m\u001b[39m{\u001b[39;00mk\u001b[39m}\u001b[39;00m\u001b[39m could be found in both .\u001b[39m\u001b[39m{\u001b[39;00midxdim\u001b[39m}\u001b[39;00m\u001b[39m_names and .\u001b[39m\u001b[39m{\u001b[39;00mcoldim\u001b[39m}\u001b[39;00m\u001b[39m.columns\u001b[39m\u001b[39m\"\u001b[39m\n\u001b[1;32m    215\u001b[0m     )\n\u001b[1;32m    216\u001b[0m \u001b[39melif\u001b[39;00m (in_col \u001b[39m+\u001b[39m in_idx) \u001b[39m==\u001b[39m \u001b[39m0\u001b[39m:\n\u001b[0;32m--> 217\u001b[0m     \u001b[39mraise\u001b[39;00m \u001b[39mKeyError\u001b[39;00m(\n\u001b[1;32m    218\u001b[0m         \u001b[39mf\u001b[39m\u001b[39m\"\u001b[39m\u001b[39mCould not find key \u001b[39m\u001b[39m{\u001b[39;00mk\u001b[39m}\u001b[39;00m\u001b[39m in .\u001b[39m\u001b[39m{\u001b[39;00midxdim\u001b[39m}\u001b[39;00m\u001b[39m_names or .\u001b[39m\u001b[39m{\u001b[39;00mcoldim\u001b[39m}\u001b[39;00m\u001b[39m.columns.\u001b[39m\u001b[39m\"\u001b[39m\n\u001b[1;32m    219\u001b[0m     )\n\u001b[1;32m    220\u001b[0m \u001b[39melif\u001b[39;00m in_col:\n\u001b[1;32m    221\u001b[0m     \u001b[39mreturn\u001b[39;00m \u001b[39mgetattr\u001b[39m(adata, coldim)[k]\u001b[39m.\u001b[39mvalues\n",
      "\u001b[0;31mKeyError\u001b[0m: 'Could not find key SOX4 in .var_names or .obs.columns.'"
     ]
    },
    {
     "data": {
      "image/png": "[encoded data removed]",
      "text/plain": [
       "<Figure size 320x320 with 1 Axes>"
      ]
     },
     "metadata": {
      "image/png": {
       "height": 287,
       "width": 305
      }
     },
     "output_type": "display_data"
    }
   ],
   "source": [
    " sc.pl.embedding(\n",
    "        wt_all,\n",
    "        basis=\"umap\",\n",
    "        color='SOX4',\n",
    "        color_map=\"viridis\",\n",
    "        s=10,\n",
    "        ncols=3,\n",
    "        vmax=\"p96\",\n",
    "        title = zip(genes_top_vel[cond], gene_vel_dict[cond][ind]),\n",
    "        save = f'top_genes_{cond}_velocity.pdf'\n",
    "    )"
   ]
  },
  {
   "cell_type": "code",
   "execution_count": null,
   "metadata": {},
   "outputs": [],
   "source": [
    "sc.pl.embedding(\n",
    "        wt_all,\n",
    "        basis=\"umap\",\n",
    "        color=['PAX6'],\n",
    "        color_map=\"viridis\",\n",
    "        s=10,\n",
    "        ncols=3,\n",
    "        vmax=\"p96\",\n",
    "        #title = zip(genes_top_exp[cond], gene_exp_dict[cond][ind]),\n",
    "        #save = f'top_genes_{cond}_expression_nervous_system_development.pdf'\n",
    "    )"
   ]
  },
  {
   "cell_type": "code",
   "execution_count": null,
   "metadata": {},
   "outputs": [],
   "source": [
    "from scipy import sparse\n",
    "\n",
    "def sparse_corrcoef(A, B=None):\n",
    "\n",
    "    if B is not None:\n",
    "        A = sparse.vstack((A, B), format='csr')\n",
    "\n",
    "    A = A.astype(np.float64)\n",
    "    n = A.shape[1]\n",
    "\n",
    "    # Compute the covariance matrix\n",
    "    rowsum = A.sum(1)\n",
    "    centering = rowsum.dot(rowsum.T.conjugate()) / n\n",
    "    C = (A.dot(A.T.conjugate()) - centering) / (n - 1)\n",
    "\n",
    "    # The correlation coefficients are given by\n",
    "    # C_{i,j} / sqrt(C_{i} * C_{j})\n",
    "    d = np.diag(C)\n",
    "    coeffs = C / np.sqrt(np.outer(d, d))\n",
    "\n",
    "    return coeffs"
   ]
  },
  {
   "cell_type": "code",
   "execution_count": null,
   "metadata": {},
   "outputs": [],
   "source": [
    "\n",
    "corr_matrix_term_end = sparse_corrcoef(terminal_state1[:, overlapping_genes].X,end[:, overlapping_genes].X)\n",
    "\n",
    "corr_matrix_term_INP = sparse_corrcoef(terminal_state1[:, overlapping_genes].X,INP_mut[:, overlapping_genes].X)\n",
    "\n",
    "corr_matrix.shape\n"
   ]
  },
  {
   "cell_type": "code",
   "execution_count": null,
   "metadata": {},
   "outputs": [],
   "source": [
    "correlation_cells = np.squeeze(np.asarray(corr_matrix_term_INP[:543,543:].mean(axis = 1)))\n",
    "\n",
    "\n"
   ]
  },
  {
   "cell_type": "code",
   "execution_count": null,
   "metadata": {},
   "outputs": [],
   "source": [
    "plt.scatter(x = np.squeeze(np.asarray(terminal_state1[:,[\"PAX6\"]].X.toarray())),y = correlation_cells)\n"
   ]
  },
  {
   "cell_type": "code",
   "execution_count": null,
   "metadata": {},
   "outputs": [],
   "source": [
    "terminal_state1[:,[\"PAX6\"]].X.toarray()"
   ]
  },
  {
   "cell_type": "markdown",
   "metadata": {},
   "source": [
    "ran on python 3.11 with following packages\n",
    "Package                 Version             Editable project location\n",
    "----------------------- ------------------- --------------------------\n",
    "absl-py                 2.0.0 \\\n",
    "aiohttp                 3.8.6 \\\n",
    "aiosignal               1.3.1 \\\n",
    "anndata                 0.10.2 \\\n",
    "annotated-types         0.6.0 \\\n",
    "anyio                   3.7.1 \\\n",
    "appnope                 0.1.2\n",
    "array-api-compat        1.4\n",
    "arrow                   1.3.0\n",
    "asttokens               2.0.5\n",
    "async-timeout           4.0.3\n",
    "attrs                   23.1.0\n",
    "backcall                0.2.0\n",
    "backoff                 2.2.1\n",
    "beautifulsoup4          4.12.2\n",
    "blessed                 1.20.0\n",
    "boltons                 23.0.0\n",
    "boto3                   1.28.67\n",
    "botocore                1.31.67\n",
    "Brotli                  1.0.9\n",
    "cellrank                2.0.1.dev7+gf3a6a0e\n",
    "certifi                 2023.7.22\n",
    "cffi                    1.15.1\n",
    "chardet                 5.2.0\n",
    "charset-normalizer      3.3.0\n",
    "chex                    0.1.7\n",
    "click                   8.1.7\n",
    "comm                    0.1.2\n",
    "conda                   23.9.0\n",
    "conda-package-handling  2.2.0\n",
    "conda_package_streaming 0.9.0\n",
    "contextlib2             21.6.0\n",
    "contourpy               1.1.1\n",
    "cospar                  0.3.3\n",
    "croniter                1.4.1\n",
    "cryptography            41.0.3\n",
    "cycler                  0.12.1\n",
    "dateutils               0.6.12\n",
    "debugpy                 1.6.7\n",
    "decorator               5.1.1\n",
    "deepdiff                6.6.1\n",
    "dm-tree                 0.1.8\n",
    "docrep                  0.3.2\n",
    "ete3                    3.1.3\n",
    "etils                   1.5.1\n",
    "executing               0.8.3\n",
    "fastapi                 0.104.0\n",
    "fastcluster             1.2.6\n",
    "filelock                3.12.4\n",
    "flax                    0.7.4\n",
    "fonttools               4.43.1\n",
    "frozenlist              1.4.0\n",
    "fsspec                  2023.9.2\n",
    "gseapy                  1.0.6\n",
    "h11                     0.14.0\n",
    "h5py                    3.10.0\n",
    "htmlmin                 0.1.12\n",
    "idna                    3.4\n",
    "igraph                  0.10.8\n",
    "ImageHash               4.3.1\n",
    "importlib-resources     6.1.0\n",
    "inquirer                3.1.3\n",
    "install                 1.3.5\n",
    "ipykernel               6.25.2\n",
    "ipython                 8.15.0\n",
    "ipywidgets              8.1.1\n",
    "itsdangerous            2.1.2\n",
    "jax                     0.4.19\n",
    "jaxlib                  0.4.19\n",
    "jedi                    0.18.1\n",
    "Jinja2                  3.0.3\n",
    "jmespath                1.0.1\n",
    "joblib                  1.1.1\n",
    "jsonpatch               1.32\n",
    "jsonpointer             2.1\n",
    "jupyter_client          8.1.0\n",
    "jupyter_core            5.3.0\n",
    "jupyterlab-widgets      3.0.9\n",
    "kiwisolver              1.4.5\n",
    "leidenalg               0.10.1\n",
    "lightning               2.0.9.post0\n",
    "lightning-cloud         0.5.42\n",
    "lightning-utilities     0.9.0\n",
    "llvmlite                0.41.0\n",
    "loompy                  3.0.7\n",
    "markdown-it-py          3.0.0\n",
    "MarkupSafe              2.1.3\n",
    "matplotlib              3.7.0\n",
    "matplotlib-inline       0.1.6\n",
    "mdurl                   0.1.2\n",
    "missingno               0.5.2\n",
    "mizani                  0.9.3\n",
    "ml-collections          0.1.1\n",
    "ml-dtypes               0.3.1\n",
    "mpmath                  1.3.0\n",
    "msgpack                 1.0.7\n",
    "mudata                  0.2.3\n",
    "multidict               6.0.4\n",
    "multimethod             1.10\n",
    "multipledispatch        1.0.0\n",
    "natsort                 8.4.0\n",
    "nest-asyncio            1.5.6\n",
    "networkx                3.1\n",
    "numba                   0.58.1\n",
    "numpy                   1.25.0\n",
    "numpy-groupies          0.10.2\n",
    "numpyro                 0.13.2\n",
    "opt-einsum              3.3.0\n",
    "optax                   0.1.7\n",
    "orbax-checkpoint        0.4.1\n",
    "ordered-set             4.1.0\n",
    "packaging               23.1\n",
    "pandas                  2.1.1\n",
    "pandas-profiling        3.2.0\n",
    "parso                   0.8.3\n",
    "patsy                   0.5.3\n",
    "petsc4py                3.19.0\n",
    "pexpect                 4.8.0\n",
    "phik                    0.12.3\n",
    "pickleshare             0.7.5\n",
    "Pillow                  10.1.0\n",
    "pip                     23.3\n",
    "platformdirs            3.10.0\n",
    "plotnine                0.12.3\n",
    "pluggy                  1.0.0\n",
    "progressbar2            4.2.0\n",
    "prompt-toolkit          3.0.36\n",
    "protobuf                4.24.4\n",
    "psutil                  5.9.0\n",
    "ptyprocess              0.7.0\n",
    "pure-eval               0.2.2\n",
    "pycosat                 0.6.6\n",
    "pycparser               2.21\n",
    "pydantic                2.1.1\n",
    "pydantic_core           2.4.0\n",
    "pygam                   0.9.0\n",
    "Pygments                2.15.1\n",
    "pygpcca                 1.0.4\n",
    "PyJWT                   2.8.0\n",
    "pynndescent             0.5.10\n",
    "pyOpenSSL               23.2.0\n",
    "pyparsing               3.1.1\n",
    "pyro-api                0.1.2\n",
    "pyro-ppl                1.8.6\n",
    "PySocks                 1.7.1\n",
    "python-dateutil         2.8.2\n",
    "python-editor           1.0.4\n",
    "python-multipart        0.0.6\n",
    "python-utils            3.8.1\n",
    "pytorch-lightning       2.1.0\n",
    "pytz                    2023.3.post1\n",
    "PyWavelets              1.4.1\n",
    "PyYAML                  6.0.1\n",
    "pyzmq                   25.1.0\n",
    "readchar                4.0.5\n",
    "requests                2.31.0\n",
    "rich                    13.6.0\n",
    "ruamel.yaml             0.17.21\n",
    "s3transfer              0.7.0\n",
    "scanpy                  1.9.5\n",
    "scikit-learn            1.1.3\n",
    "scikit-misc             0.3.0\n",
    "scipy                   1.11.3\n",
    "scvelo                  0.3.0               /Users/samuelheczko/scvelo\n",
    "scvi-tools              1.0.4\n",
    "seaborn                 0.13.0\n",
    "session-info            1.0.0\n",
    "setuptools              68.0.0\n",
    "six                     1.16.0\n",
    "slepc4py                3.19.2\n",
    "sniffio                 1.3.0\n",
    "soupsieve               2.5\n",
    "sparse                  0.14.0\n",
    "stack-data              0.2.0\n",
    "starlette               0.27.0\n",
    "starsessions            1.3.0\n",
    "statsmodels             0.14.0\n",
    "stdlib-list             0.9.0\n",
    "sympy                   1.12\n",
    "tangled-up-in-unicode   0.2.0\n",
    "tensorstore             0.1.46\n",
    "texttable               1.7.0\n",
    "threadpoolctl           3.2.0\n",
    "toolz                   0.12.0\n",
    "torch                   2.1.0\n",
    "torchmetrics            1.2.0\n",
    "tornado                 6.3.3\n",
    "tqdm                    4.65.0\n",
    "traitlets               5.7.1\n",
    "truststore              0.8.0\n",
    "types-python-dateutil   2.8.19.14\n",
    "typing_extensions       4.8.0\n",
    "tzdata                  2023.3\n",
    "umap-learn              0.5.4\n",
    "urllib3                 1.26.18\n",
    "uvicorn                 0.23.2\n",
    "visions                 0.7.4\n",
    "wcwidth                 0.2.5\n",
    "websocket-client        1.6.4\n",
    "websockets              11.0.3\n",
    "wheel                   0.41.2\n",
    "widgetsnbextension      4.0.9\n",
    "wrapt                   1.15.0\n",
    "xarray                  2023.10.1\n",
    "yarl                    1.9.2\n",
    "zipp                    3.17.0\n",
    "zstandard               0.19.0\n",
    "\n",
    "\n",
    "\n",
    "\n",
    "it assumes following file structure\n",
    "\n",
    "└── PAX6_code\n",
    "│   └── data\n",
    "│   └── notebooks\n",
    "│   └── plots"
   ]
  },
  {
   "cell_type": "markdown",
   "metadata": {},
   "source": []
  }
 ],
 "metadata": {
  "kernelspec": {
   "display_name": "Python [conda env:cellrank]",
   "language": "python",
   "name": "conda-env-cellrank-py"
  },
  "language_info": {
   "codemirror_mode": {
    "name": "ipython",
    "version": 3
   },
   "file_extension": ".py",
   "mimetype": "text/x-python",
   "name": "python",
   "nbconvert_exporter": "python",
   "pygments_lexer": "ipython3",
   "version": "3.10.0"
  }
 },
 "nbformat": 4,
 "nbformat_minor": 4
}
